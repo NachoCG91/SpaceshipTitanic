{
 "cells": [
  {
   "cell_type": "code",
   "execution_count": 1,
   "outputs": [],
   "source": [
    "import numpy as np\n",
    "import pandas as pd\n",
    "import matplotlib.pyplot as plt\n",
    "import missingno as msno\n",
    "import os\n",
    "\n",
    "from impute_missing_values import impute_missing_values\n",
    "from pickle import dump"
   ],
   "metadata": {
    "collapsed": false,
    "pycharm": {
     "name": "#%%\n"
    }
   }
  },
  {
   "cell_type": "markdown",
   "source": [
    "## Import data"
   ],
   "metadata": {
    "collapsed": false,
    "pycharm": {
     "name": "#%% md\n"
    }
   }
  },
  {
   "cell_type": "code",
   "execution_count": 2,
   "outputs": [
    {
     "name": "stdout",
     "output_type": "stream",
     "text": [
      "Data Shape: (8693, 14)\n",
      "Target Shape: (8693,)\n",
      "Variables Shape: (8693, 13)\n"
     ]
    },
    {
     "data": {
      "text/plain": "  PassengerId HomePlanet CryoSleep  Cabin  Destination   Age    VIP  \\\n0     0001_01     Europa     False  B/0/P  TRAPPIST-1e  39.0  False   \n1     0002_01      Earth     False  F/0/S  TRAPPIST-1e  24.0  False   \n2     0003_01     Europa     False  A/0/S  TRAPPIST-1e  58.0   True   \n3     0003_02     Europa     False  A/0/S  TRAPPIST-1e  33.0  False   \n4     0004_01      Earth     False  F/1/S  TRAPPIST-1e  16.0  False   \n\n   RoomService  FoodCourt  ShoppingMall     Spa  VRDeck               Name  \n0          0.0        0.0           0.0     0.0     0.0    Maham Ofracculy  \n1        109.0        9.0          25.0   549.0    44.0       Juanna Vines  \n2         43.0     3576.0           0.0  6715.0    49.0      Altark Susent  \n3          0.0     1283.0         371.0  3329.0   193.0       Solam Susent  \n4        303.0       70.0         151.0   565.0     2.0  Willy Santantines  ",
      "text/html": "<div>\n<style scoped>\n    .dataframe tbody tr th:only-of-type {\n        vertical-align: middle;\n    }\n\n    .dataframe tbody tr th {\n        vertical-align: top;\n    }\n\n    .dataframe thead th {\n        text-align: right;\n    }\n</style>\n<table border=\"1\" class=\"dataframe\">\n  <thead>\n    <tr style=\"text-align: right;\">\n      <th></th>\n      <th>PassengerId</th>\n      <th>HomePlanet</th>\n      <th>CryoSleep</th>\n      <th>Cabin</th>\n      <th>Destination</th>\n      <th>Age</th>\n      <th>VIP</th>\n      <th>RoomService</th>\n      <th>FoodCourt</th>\n      <th>ShoppingMall</th>\n      <th>Spa</th>\n      <th>VRDeck</th>\n      <th>Name</th>\n    </tr>\n  </thead>\n  <tbody>\n    <tr>\n      <th>0</th>\n      <td>0001_01</td>\n      <td>Europa</td>\n      <td>False</td>\n      <td>B/0/P</td>\n      <td>TRAPPIST-1e</td>\n      <td>39.0</td>\n      <td>False</td>\n      <td>0.0</td>\n      <td>0.0</td>\n      <td>0.0</td>\n      <td>0.0</td>\n      <td>0.0</td>\n      <td>Maham Ofracculy</td>\n    </tr>\n    <tr>\n      <th>1</th>\n      <td>0002_01</td>\n      <td>Earth</td>\n      <td>False</td>\n      <td>F/0/S</td>\n      <td>TRAPPIST-1e</td>\n      <td>24.0</td>\n      <td>False</td>\n      <td>109.0</td>\n      <td>9.0</td>\n      <td>25.0</td>\n      <td>549.0</td>\n      <td>44.0</td>\n      <td>Juanna Vines</td>\n    </tr>\n    <tr>\n      <th>2</th>\n      <td>0003_01</td>\n      <td>Europa</td>\n      <td>False</td>\n      <td>A/0/S</td>\n      <td>TRAPPIST-1e</td>\n      <td>58.0</td>\n      <td>True</td>\n      <td>43.0</td>\n      <td>3576.0</td>\n      <td>0.0</td>\n      <td>6715.0</td>\n      <td>49.0</td>\n      <td>Altark Susent</td>\n    </tr>\n    <tr>\n      <th>3</th>\n      <td>0003_02</td>\n      <td>Europa</td>\n      <td>False</td>\n      <td>A/0/S</td>\n      <td>TRAPPIST-1e</td>\n      <td>33.0</td>\n      <td>False</td>\n      <td>0.0</td>\n      <td>1283.0</td>\n      <td>371.0</td>\n      <td>3329.0</td>\n      <td>193.0</td>\n      <td>Solam Susent</td>\n    </tr>\n    <tr>\n      <th>4</th>\n      <td>0004_01</td>\n      <td>Earth</td>\n      <td>False</td>\n      <td>F/1/S</td>\n      <td>TRAPPIST-1e</td>\n      <td>16.0</td>\n      <td>False</td>\n      <td>303.0</td>\n      <td>70.0</td>\n      <td>151.0</td>\n      <td>565.0</td>\n      <td>2.0</td>\n      <td>Willy Santantines</td>\n    </tr>\n  </tbody>\n</table>\n</div>"
     },
     "execution_count": 2,
     "metadata": {},
     "output_type": "execute_result"
    }
   ],
   "source": [
    "data = pd.read_csv('data/train.csv')\n",
    "target = data.Transported\n",
    "variables = data.drop('Transported', axis=1)\n",
    "print('Data Shape:', data.shape)\n",
    "print('Target Shape:', target.shape)\n",
    "print('Variables Shape:', variables.shape)\n",
    "variables.head()"
   ],
   "metadata": {
    "collapsed": false,
    "pycharm": {
     "name": "#%%\n"
    }
   }
  },
  {
   "cell_type": "markdown",
   "source": [
    "## Fill NAs relating CryoSleep with Bill columns"
   ],
   "metadata": {
    "collapsed": false,
    "pycharm": {
     "name": "#%% md\n"
    }
   }
  },
  {
   "cell_type": "markdown",
   "source": [
    "Every passenger in CryoSleep must have 0 in every billing column.\n",
    "Using this, we can fill na's of billing columns to 0 when a passenger is in CryoSleep."
   ],
   "metadata": {
    "collapsed": false,
    "pycharm": {
     "name": "#%% md\n"
    }
   }
  },
  {
   "cell_type": "code",
   "execution_count": 3,
   "outputs": [
    {
     "name": "stderr",
     "output_type": "stream",
     "text": [
      "C:\\Users\\jfcaliz\\AppData\\Local\\Temp\\ipykernel_2164\\3547994724.py:4: SettingWithCopyWarning: \n",
      "A value is trying to be set on a copy of a slice from a DataFrame.\n",
      "Try using .loc[row_indexer,col_indexer] = value instead\n",
      "\n",
      "See the caveats in the documentation: https://pandas.pydata.org/pandas-docs/stable/user_guide/indexing.html#returning-a-view-versus-a-copy\n",
      "  variables[filt_cryo][bill_columns] = variables[filt_cryo][bill_columns].fillna(0)\n"
     ]
    }
   ],
   "source": [
    "bill_columns = ['RoomService', 'FoodCourt', 'ShoppingMall', 'VRDeck', 'Spa']\n",
    "\n",
    "filt_cryo = variables.CryoSleep == True\n",
    "variables[filt_cryo][bill_columns] = variables[filt_cryo][bill_columns].fillna(0)"
   ],
   "metadata": {
    "collapsed": false,
    "pycharm": {
     "name": "#%%\n"
    }
   }
  },
  {
   "cell_type": "code",
   "execution_count": 4,
   "outputs": [
    {
     "data": {
      "text/plain": "PassengerId      0\nHomePlanet      75\nCryoSleep        0\nCabin           84\nDestination     48\nAge             82\nVIP             75\nRoomService     68\nFoodCourt       70\nShoppingMall    96\nSpa             65\nVRDeck          62\nName            62\ndtype: int64"
     },
     "execution_count": 4,
     "metadata": {},
     "output_type": "execute_result"
    }
   ],
   "source": [
    "variables[filt_cryo].isna().sum()"
   ],
   "metadata": {
    "collapsed": false,
    "pycharm": {
     "name": "#%%\n"
    }
   }
  },
  {
   "cell_type": "markdown",
   "source": [
    "On the other hand, if a passenger has non zero on some billing and NA in CryoSleep, we can assume that CryoSleep is False."
   ],
   "metadata": {
    "collapsed": false,
    "pycharm": {
     "name": "#%% md\n"
    }
   }
  },
  {
   "cell_type": "code",
   "execution_count": 5,
   "outputs": [
    {
     "name": "stderr",
     "output_type": "stream",
     "text": [
      "C:\\Users\\jfcaliz\\AppData\\Local\\Temp\\ipykernel_2164\\4076330862.py:4: SettingWithCopyWarning: \n",
      "A value is trying to be set on a copy of a slice from a DataFrame.\n",
      "Try using .loc[row_indexer,col_indexer] = value instead\n",
      "\n",
      "See the caveats in the documentation: https://pandas.pydata.org/pandas-docs/stable/user_guide/indexing.html#returning-a-view-versus-a-copy\n",
      "  variables[filt_spent_zero]['CryoSleep'] = variables[filt_spent_zero]['CryoSleep'].fillna(False)\n"
     ]
    }
   ],
   "source": [
    "variables['TotalSpent'] = variables[bill_columns].sum(axis=1)\n",
    "\n",
    "filt_spent_zero = variables.TotalSpent != 0\n",
    "variables[filt_spent_zero]['CryoSleep'] = variables[filt_spent_zero]['CryoSleep'].fillna(False)"
   ],
   "metadata": {
    "collapsed": false,
    "pycharm": {
     "name": "#%%\n"
    }
   }
  },
  {
   "cell_type": "code",
   "execution_count": 6,
   "outputs": [
    {
     "data": {
      "text/plain": "PassengerId       0\nHomePlanet      113\nCryoSleep       119\nCabin           102\nDestination     119\nAge              90\nVIP             110\nRoomService     103\nFoodCourt       102\nShoppingMall    100\nSpa             112\nVRDeck          102\nName            114\nTotalSpent        0\ndtype: int64"
     },
     "execution_count": 6,
     "metadata": {},
     "output_type": "execute_result"
    }
   ],
   "source": [
    "variables[filt_spent_zero].isna().sum()"
   ],
   "metadata": {
    "collapsed": false,
    "pycharm": {
     "name": "#%%\n"
    }
   }
  },
  {
   "cell_type": "code",
   "execution_count": 7,
   "outputs": [
    {
     "data": {
      "text/plain": "PassengerId      object\nHomePlanet       object\nCryoSleep        object\nCabin            object\nDestination      object\nAge             float64\nVIP              object\nRoomService     float64\nFoodCourt       float64\nShoppingMall    float64\nSpa             float64\nVRDeck          float64\nName             object\nTotalSpent      float64\ndtype: object"
     },
     "execution_count": 7,
     "metadata": {},
     "output_type": "execute_result"
    }
   ],
   "source": [
    "variables.dtypes"
   ],
   "metadata": {
    "collapsed": false,
    "pycharm": {
     "name": "#%%\n"
    }
   }
  },
  {
   "cell_type": "markdown",
   "source": [
    "## Subdivide in columns\n",
    "\n",
    "Certain columns contain information that can be subdivided into different values.\n",
    "- Cabin: The value is composed by **deck/num/side**, where some of these have a reduced number of unique values.\n",
    "- PassengerId: The value is composed by **gggg_pp**, where **gggg** indicates a group and **pp** indicates the passenger's number within the group.\n",
    "- Name: Can be divided into **Name** and **Surname**."
   ],
   "metadata": {
    "collapsed": false,
    "pycharm": {
     "name": "#%% md\n"
    }
   }
  },
  {
   "cell_type": "code",
   "execution_count": 8,
   "outputs": [
    {
     "data": {
      "text/plain": "  HomePlanet CryoSleep  Destination   Age    VIP  RoomService  FoodCourt  \\\n0     Europa     False  TRAPPIST-1e  39.0  False          0.0        0.0   \n1      Earth     False  TRAPPIST-1e  24.0  False        109.0        9.0   \n2     Europa     False  TRAPPIST-1e  58.0   True         43.0     3576.0   \n3     Europa     False  TRAPPIST-1e  33.0  False          0.0     1283.0   \n4      Earth     False  TRAPPIST-1e  16.0  False        303.0       70.0   \n\n   ShoppingMall     Spa  VRDeck    Name  TotalSpent Cabin_deck Cabin_num  \\\n0           0.0     0.0     0.0   Maham         0.0          B         0   \n1          25.0   549.0    44.0  Juanna       736.0          F         0   \n2           0.0  6715.0    49.0  Altark     10383.0          A         0   \n3         371.0  3329.0   193.0   Solam      5176.0          A         0   \n4         151.0   565.0     2.0   Willy      1091.0          F         1   \n\n  Cabin_side PassengerId_group PassengerId_num      Surname  \n0          P              0001              01    Ofracculy  \n1          S              0002              01        Vines  \n2          S              0003              01       Susent  \n3          S              0003              02       Susent  \n4          S              0004              01  Santantines  ",
      "text/html": "<div>\n<style scoped>\n    .dataframe tbody tr th:only-of-type {\n        vertical-align: middle;\n    }\n\n    .dataframe tbody tr th {\n        vertical-align: top;\n    }\n\n    .dataframe thead th {\n        text-align: right;\n    }\n</style>\n<table border=\"1\" class=\"dataframe\">\n  <thead>\n    <tr style=\"text-align: right;\">\n      <th></th>\n      <th>HomePlanet</th>\n      <th>CryoSleep</th>\n      <th>Destination</th>\n      <th>Age</th>\n      <th>VIP</th>\n      <th>RoomService</th>\n      <th>FoodCourt</th>\n      <th>ShoppingMall</th>\n      <th>Spa</th>\n      <th>VRDeck</th>\n      <th>Name</th>\n      <th>TotalSpent</th>\n      <th>Cabin_deck</th>\n      <th>Cabin_num</th>\n      <th>Cabin_side</th>\n      <th>PassengerId_group</th>\n      <th>PassengerId_num</th>\n      <th>Surname</th>\n    </tr>\n  </thead>\n  <tbody>\n    <tr>\n      <th>0</th>\n      <td>Europa</td>\n      <td>False</td>\n      <td>TRAPPIST-1e</td>\n      <td>39.0</td>\n      <td>False</td>\n      <td>0.0</td>\n      <td>0.0</td>\n      <td>0.0</td>\n      <td>0.0</td>\n      <td>0.0</td>\n      <td>Maham</td>\n      <td>0.0</td>\n      <td>B</td>\n      <td>0</td>\n      <td>P</td>\n      <td>0001</td>\n      <td>01</td>\n      <td>Ofracculy</td>\n    </tr>\n    <tr>\n      <th>1</th>\n      <td>Earth</td>\n      <td>False</td>\n      <td>TRAPPIST-1e</td>\n      <td>24.0</td>\n      <td>False</td>\n      <td>109.0</td>\n      <td>9.0</td>\n      <td>25.0</td>\n      <td>549.0</td>\n      <td>44.0</td>\n      <td>Juanna</td>\n      <td>736.0</td>\n      <td>F</td>\n      <td>0</td>\n      <td>S</td>\n      <td>0002</td>\n      <td>01</td>\n      <td>Vines</td>\n    </tr>\n    <tr>\n      <th>2</th>\n      <td>Europa</td>\n      <td>False</td>\n      <td>TRAPPIST-1e</td>\n      <td>58.0</td>\n      <td>True</td>\n      <td>43.0</td>\n      <td>3576.0</td>\n      <td>0.0</td>\n      <td>6715.0</td>\n      <td>49.0</td>\n      <td>Altark</td>\n      <td>10383.0</td>\n      <td>A</td>\n      <td>0</td>\n      <td>S</td>\n      <td>0003</td>\n      <td>01</td>\n      <td>Susent</td>\n    </tr>\n    <tr>\n      <th>3</th>\n      <td>Europa</td>\n      <td>False</td>\n      <td>TRAPPIST-1e</td>\n      <td>33.0</td>\n      <td>False</td>\n      <td>0.0</td>\n      <td>1283.0</td>\n      <td>371.0</td>\n      <td>3329.0</td>\n      <td>193.0</td>\n      <td>Solam</td>\n      <td>5176.0</td>\n      <td>A</td>\n      <td>0</td>\n      <td>S</td>\n      <td>0003</td>\n      <td>02</td>\n      <td>Susent</td>\n    </tr>\n    <tr>\n      <th>4</th>\n      <td>Earth</td>\n      <td>False</td>\n      <td>TRAPPIST-1e</td>\n      <td>16.0</td>\n      <td>False</td>\n      <td>303.0</td>\n      <td>70.0</td>\n      <td>151.0</td>\n      <td>565.0</td>\n      <td>2.0</td>\n      <td>Willy</td>\n      <td>1091.0</td>\n      <td>F</td>\n      <td>1</td>\n      <td>S</td>\n      <td>0004</td>\n      <td>01</td>\n      <td>Santantines</td>\n    </tr>\n  </tbody>\n</table>\n</div>"
     },
     "execution_count": 8,
     "metadata": {},
     "output_type": "execute_result"
    }
   ],
   "source": [
    "variables[['Cabin_deck', 'Cabin_num', 'Cabin_side']] = variables.Cabin.str.split('/', expand=True)\n",
    "variables[['PassengerId_group', 'PassengerId_num']] = variables.PassengerId.str.split('_', expand=True)\n",
    "variables[['Name', 'Surname']] = variables.Name.str.split(' ', expand=True)\n",
    "\n",
    "variables.drop(['Cabin', 'PassengerId'], axis=1, inplace=True)\n",
    "\n",
    "variables.head()"
   ],
   "metadata": {
    "collapsed": false,
    "pycharm": {
     "name": "#%%\n"
    }
   }
  },
  {
   "cell_type": "markdown",
   "source": [
    "## Transform the types of variables"
   ],
   "metadata": {
    "collapsed": false,
    "pycharm": {
     "name": "#%% md\n"
    }
   }
  },
  {
   "cell_type": "code",
   "execution_count": 9,
   "outputs": [],
   "source": [
    "for col in variables.columns:\n",
    "    try:\n",
    "        variables[col] = variables[col].astype('float64')\n",
    "    except ValueError:\n",
    "        continue"
   ],
   "metadata": {
    "collapsed": false,
    "pycharm": {
     "name": "#%%\n"
    }
   }
  },
  {
   "cell_type": "code",
   "execution_count": 10,
   "outputs": [
    {
     "data": {
      "text/plain": "['CryoSleep', 'VIP']"
     },
     "execution_count": 10,
     "metadata": {},
     "output_type": "execute_result"
    }
   ],
   "source": [
    "bool_vars = [col for col in variables.columns if\n",
    "             variables[col].isin([True, False, np.nan]).all()\n",
    "             or variables[col].isin([True, False]).all()]\n",
    "bool_vars"
   ],
   "metadata": {
    "collapsed": false,
    "pycharm": {
     "name": "#%%\n"
    }
   }
  },
  {
   "cell_type": "code",
   "execution_count": 11,
   "outputs": [],
   "source": [
    "for variable in bool_vars:\n",
    "    variables.loc[variables[variable] == True, variable] = 1\n",
    "    variables.loc[variables[variable] == False, variable] = 0"
   ],
   "metadata": {
    "collapsed": false,
    "pycharm": {
     "name": "#%%\n"
    }
   }
  },
  {
   "cell_type": "code",
   "execution_count": 12,
   "outputs": [
    {
     "data": {
      "text/plain": "['CryoSleep',\n 'Age',\n 'VIP',\n 'RoomService',\n 'FoodCourt',\n 'ShoppingMall',\n 'Spa',\n 'VRDeck',\n 'TotalSpent',\n 'Cabin_num',\n 'PassengerId_group',\n 'PassengerId_num']"
     },
     "execution_count": 12,
     "metadata": {},
     "output_type": "execute_result"
    }
   ],
   "source": [
    "numeric = [col for col in variables.columns if variables[col].dtype == 'float64']\n",
    "numeric"
   ],
   "metadata": {
    "collapsed": false,
    "pycharm": {
     "name": "#%%\n"
    }
   }
  },
  {
   "cell_type": "code",
   "execution_count": 13,
   "outputs": [
    {
     "data": {
      "text/plain": "['HomePlanet', 'Name', 'Surname', 'Cabin_side', 'Cabin_deck', 'Destination']"
     },
     "execution_count": 13,
     "metadata": {},
     "output_type": "execute_result"
    }
   ],
   "source": [
    "categorical = [col for col in variables.columns if variables[col].dtype == 'object']\n",
    "categorical = set(categorical).difference(set(bool_vars))\n",
    "categorical = list(categorical)\n",
    "categorical"
   ],
   "metadata": {
    "collapsed": false,
    "pycharm": {
     "name": "#%%\n"
    }
   }
  },
  {
   "cell_type": "markdown",
   "source": [
    "## Inspect missing values"
   ],
   "metadata": {
    "collapsed": false,
    "pycharm": {
     "name": "#%% md\n"
    }
   }
  },
  {
   "cell_type": "code",
   "execution_count": 14,
   "outputs": [
    {
     "data": {
      "text/plain": "<Figure size 1440x504 with 3 Axes>",
      "image/png": "[encoded data removed]"
     },
     "metadata": {
      "needs_background": "light"
     },
     "output_type": "display_data"
    }
   ],
   "source": [
    "vars_dict = {'Boolean': bool_vars,\n",
    "             'Numeric': numeric,\n",
    "             'Categorical': categorical}\n",
    "\n",
    "fig, axes = plt.subplots(ncols=3, figsize=(20, 7))\n",
    "\n",
    "for ax, var_type in zip(axes, vars_dict.keys()):\n",
    "    msno.matrix(variables[vars_dict[var_type]], ax=ax, sparkline=False)\n",
    "    ax.set_title(var_type, fontsize=18)\n",
    "\n",
    "plt.tight_layout()\n",
    "plt.show()"
   ],
   "metadata": {
    "collapsed": false,
    "pycharm": {
     "name": "#%%\n"
    }
   }
  },
  {
   "cell_type": "markdown",
   "source": [
    "## Inspect categorical variables\n",
    "Look for amount of unique values"
   ],
   "metadata": {
    "collapsed": false,
    "pycharm": {
     "name": "#%% md\n"
    }
   }
  },
  {
   "cell_type": "code",
   "execution_count": 15,
   "outputs": [
    {
     "name": "stdout",
     "output_type": "stream",
     "text": [
      "HomePlanet: 4\n",
      "Name: 2707\n",
      "Surname: 2218\n",
      "Cabin_side: 3\n",
      "Cabin_deck: 9\n",
      "Destination: 4\n"
     ]
    }
   ],
   "source": [
    "for var in categorical:\n",
    "    print(f'{var}: {len(variables[var].unique())}')"
   ],
   "metadata": {
    "collapsed": false,
    "pycharm": {
     "name": "#%%\n"
    }
   }
  },
  {
   "cell_type": "code",
   "execution_count": 16,
   "outputs": [
    {
     "data": {
      "text/plain": "['HomePlanet', 'Cabin_side', 'Cabin_deck', 'Destination']"
     },
     "execution_count": 16,
     "metadata": {},
     "output_type": "execute_result"
    }
   ],
   "source": [
    "dummy_thresh = 10\n",
    "\n",
    "var_to_dummy = [variable for variable in categorical if len(variables[variable].unique()) < dummy_thresh]\n",
    "var_not_to_dummy = [variable for variable in categorical if len(variables[variable].unique()) >= dummy_thresh]\n",
    "var_to_dummy"
   ],
   "metadata": {
    "collapsed": false,
    "pycharm": {
     "name": "#%%\n"
    }
   }
  },
  {
   "cell_type": "markdown",
   "source": [
    "## Fill categorical NAs with **blank**"
   ],
   "metadata": {
    "collapsed": false,
    "pycharm": {
     "name": "#%% md\n"
    }
   }
  },
  {
   "cell_type": "code",
   "execution_count": 17,
   "outputs": [
    {
     "data": {
      "text/plain": "HomePlanet     0\nName           0\nSurname        0\nCabin_side     0\nCabin_deck     0\nDestination    0\ndtype: int64"
     },
     "execution_count": 17,
     "metadata": {},
     "output_type": "execute_result"
    }
   ],
   "source": [
    "variables[categorical] = variables[categorical].fillna('blank').copy()\n",
    "variables[categorical].isna().sum()"
   ],
   "metadata": {
    "collapsed": false,
    "pycharm": {
     "name": "#%%\n"
    }
   }
  },
  {
   "cell_type": "markdown",
   "source": [
    "## Create dummy variables\n",
    "For the ones that have a reduced number of categories"
   ],
   "metadata": {
    "collapsed": false,
    "pycharm": {
     "name": "#%% md\n"
    }
   }
  },
  {
   "cell_type": "code",
   "execution_count": 18,
   "outputs": [
    {
     "data": {
      "text/plain": "   HomePlanet_Earth  HomePlanet_Europa  HomePlanet_Mars  HomePlanet_blank  \\\n0                 0                  1                0                 0   \n1                 1                  0                0                 0   \n2                 0                  1                0                 0   \n3                 0                  1                0                 0   \n4                 1                  0                0                 0   \n\n   Cabin_side_P  Cabin_side_S  Cabin_side_blank  Cabin_deck_A  Cabin_deck_B  \\\n0             1             0                 0             0             1   \n1             0             1                 0             0             0   \n2             0             1                 0             1             0   \n3             0             1                 0             1             0   \n4             0             1                 0             0             0   \n\n   Cabin_deck_C  Cabin_deck_D  Cabin_deck_E  Cabin_deck_F  Cabin_deck_G  \\\n0             0             0             0             0             0   \n1             0             0             0             1             0   \n2             0             0             0             0             0   \n3             0             0             0             0             0   \n4             0             0             0             1             0   \n\n   Cabin_deck_T  Cabin_deck_blank  Destination_55 Cancri e  \\\n0             0                 0                        0   \n1             0                 0                        0   \n2             0                 0                        0   \n3             0                 0                        0   \n4             0                 0                        0   \n\n   Destination_PSO J318.5-22  Destination_TRAPPIST-1e  Destination_blank  \n0                          0                        1                  0  \n1                          0                        1                  0  \n2                          0                        1                  0  \n3                          0                        1                  0  \n4                          0                        1                  0  ",
      "text/html": "<div>\n<style scoped>\n    .dataframe tbody tr th:only-of-type {\n        vertical-align: middle;\n    }\n\n    .dataframe tbody tr th {\n        vertical-align: top;\n    }\n\n    .dataframe thead th {\n        text-align: right;\n    }\n</style>\n<table border=\"1\" class=\"dataframe\">\n  <thead>\n    <tr style=\"text-align: right;\">\n      <th></th>\n      <th>HomePlanet_Earth</th>\n      <th>HomePlanet_Europa</th>\n      <th>HomePlanet_Mars</th>\n      <th>HomePlanet_blank</th>\n      <th>Cabin_side_P</th>\n      <th>Cabin_side_S</th>\n      <th>Cabin_side_blank</th>\n      <th>Cabin_deck_A</th>\n      <th>Cabin_deck_B</th>\n      <th>Cabin_deck_C</th>\n      <th>Cabin_deck_D</th>\n      <th>Cabin_deck_E</th>\n      <th>Cabin_deck_F</th>\n      <th>Cabin_deck_G</th>\n      <th>Cabin_deck_T</th>\n      <th>Cabin_deck_blank</th>\n      <th>Destination_55 Cancri e</th>\n      <th>Destination_PSO J318.5-22</th>\n      <th>Destination_TRAPPIST-1e</th>\n      <th>Destination_blank</th>\n    </tr>\n  </thead>\n  <tbody>\n    <tr>\n      <th>0</th>\n      <td>0</td>\n      <td>1</td>\n      <td>0</td>\n      <td>0</td>\n      <td>1</td>\n      <td>0</td>\n      <td>0</td>\n      <td>0</td>\n      <td>1</td>\n      <td>0</td>\n      <td>0</td>\n      <td>0</td>\n      <td>0</td>\n      <td>0</td>\n      <td>0</td>\n      <td>0</td>\n      <td>0</td>\n      <td>0</td>\n      <td>1</td>\n      <td>0</td>\n    </tr>\n    <tr>\n      <th>1</th>\n      <td>1</td>\n      <td>0</td>\n      <td>0</td>\n      <td>0</td>\n      <td>0</td>\n      <td>1</td>\n      <td>0</td>\n      <td>0</td>\n      <td>0</td>\n      <td>0</td>\n      <td>0</td>\n      <td>0</td>\n      <td>1</td>\n      <td>0</td>\n      <td>0</td>\n      <td>0</td>\n      <td>0</td>\n      <td>0</td>\n      <td>1</td>\n      <td>0</td>\n    </tr>\n    <tr>\n      <th>2</th>\n      <td>0</td>\n      <td>1</td>\n      <td>0</td>\n      <td>0</td>\n      <td>0</td>\n      <td>1</td>\n      <td>0</td>\n      <td>1</td>\n      <td>0</td>\n      <td>0</td>\n      <td>0</td>\n      <td>0</td>\n      <td>0</td>\n      <td>0</td>\n      <td>0</td>\n      <td>0</td>\n      <td>0</td>\n      <td>0</td>\n      <td>1</td>\n      <td>0</td>\n    </tr>\n    <tr>\n      <th>3</th>\n      <td>0</td>\n      <td>1</td>\n      <td>0</td>\n      <td>0</td>\n      <td>0</td>\n      <td>1</td>\n      <td>0</td>\n      <td>1</td>\n      <td>0</td>\n      <td>0</td>\n      <td>0</td>\n      <td>0</td>\n      <td>0</td>\n      <td>0</td>\n      <td>0</td>\n      <td>0</td>\n      <td>0</td>\n      <td>0</td>\n      <td>1</td>\n      <td>0</td>\n    </tr>\n    <tr>\n      <th>4</th>\n      <td>1</td>\n      <td>0</td>\n      <td>0</td>\n      <td>0</td>\n      <td>0</td>\n      <td>1</td>\n      <td>0</td>\n      <td>0</td>\n      <td>0</td>\n      <td>0</td>\n      <td>0</td>\n      <td>0</td>\n      <td>1</td>\n      <td>0</td>\n      <td>0</td>\n      <td>0</td>\n      <td>0</td>\n      <td>0</td>\n      <td>1</td>\n      <td>0</td>\n    </tr>\n  </tbody>\n</table>\n</div>"
     },
     "execution_count": 18,
     "metadata": {},
     "output_type": "execute_result"
    }
   ],
   "source": [
    "dummy_vars = pd.get_dummies(variables[var_to_dummy])\n",
    "dummy_vars.head()"
   ],
   "metadata": {
    "collapsed": false,
    "pycharm": {
     "name": "#%%\n"
    }
   }
  },
  {
   "cell_type": "code",
   "execution_count": 19,
   "outputs": [
    {
     "data": {
      "text/plain": "   CryoSleep   Age  VIP  RoomService  FoodCourt  ShoppingMall     Spa  VRDeck  \\\n0        0.0  39.0  0.0          0.0        0.0           0.0     0.0     0.0   \n1        0.0  24.0  0.0        109.0        9.0          25.0   549.0    44.0   \n2        0.0  58.0  1.0         43.0     3576.0           0.0  6715.0    49.0   \n3        0.0  33.0  0.0          0.0     1283.0         371.0  3329.0   193.0   \n4        0.0  16.0  0.0        303.0       70.0         151.0   565.0     2.0   \n\n   TotalSpent  Cabin_num  ...  Cabin_deck_D  Cabin_deck_E  Cabin_deck_F  \\\n0         0.0        0.0  ...             0             0             0   \n1       736.0        0.0  ...             0             0             1   \n2     10383.0        0.0  ...             0             0             0   \n3      5176.0        0.0  ...             0             0             0   \n4      1091.0        1.0  ...             0             0             1   \n\n   Cabin_deck_G  Cabin_deck_T  Cabin_deck_blank  Destination_55 Cancri e  \\\n0             0             0                 0                        0   \n1             0             0                 0                        0   \n2             0             0                 0                        0   \n3             0             0                 0                        0   \n4             0             0                 0                        0   \n\n   Destination_PSO J318.5-22  Destination_TRAPPIST-1e  Destination_blank  \n0                          0                        1                  0  \n1                          0                        1                  0  \n2                          0                        1                  0  \n3                          0                        1                  0  \n4                          0                        1                  0  \n\n[5 rows x 32 columns]",
      "text/html": "<div>\n<style scoped>\n    .dataframe tbody tr th:only-of-type {\n        vertical-align: middle;\n    }\n\n    .dataframe tbody tr th {\n        vertical-align: top;\n    }\n\n    .dataframe thead th {\n        text-align: right;\n    }\n</style>\n<table border=\"1\" class=\"dataframe\">\n  <thead>\n    <tr style=\"text-align: right;\">\n      <th></th>\n      <th>CryoSleep</th>\n      <th>Age</th>\n      <th>VIP</th>\n      <th>RoomService</th>\n      <th>FoodCourt</th>\n      <th>ShoppingMall</th>\n      <th>Spa</th>\n      <th>VRDeck</th>\n      <th>TotalSpent</th>\n      <th>Cabin_num</th>\n      <th>...</th>\n      <th>Cabin_deck_D</th>\n      <th>Cabin_deck_E</th>\n      <th>Cabin_deck_F</th>\n      <th>Cabin_deck_G</th>\n      <th>Cabin_deck_T</th>\n      <th>Cabin_deck_blank</th>\n      <th>Destination_55 Cancri e</th>\n      <th>Destination_PSO J318.5-22</th>\n      <th>Destination_TRAPPIST-1e</th>\n      <th>Destination_blank</th>\n    </tr>\n  </thead>\n  <tbody>\n    <tr>\n      <th>0</th>\n      <td>0.0</td>\n      <td>39.0</td>\n      <td>0.0</td>\n      <td>0.0</td>\n      <td>0.0</td>\n      <td>0.0</td>\n      <td>0.0</td>\n      <td>0.0</td>\n      <td>0.0</td>\n      <td>0.0</td>\n      <td>...</td>\n      <td>0</td>\n      <td>0</td>\n      <td>0</td>\n      <td>0</td>\n      <td>0</td>\n      <td>0</td>\n      <td>0</td>\n      <td>0</td>\n      <td>1</td>\n      <td>0</td>\n    </tr>\n    <tr>\n      <th>1</th>\n      <td>0.0</td>\n      <td>24.0</td>\n      <td>0.0</td>\n      <td>109.0</td>\n      <td>9.0</td>\n      <td>25.0</td>\n      <td>549.0</td>\n      <td>44.0</td>\n      <td>736.0</td>\n      <td>0.0</td>\n      <td>...</td>\n      <td>0</td>\n      <td>0</td>\n      <td>1</td>\n      <td>0</td>\n      <td>0</td>\n      <td>0</td>\n      <td>0</td>\n      <td>0</td>\n      <td>1</td>\n      <td>0</td>\n    </tr>\n    <tr>\n      <th>2</th>\n      <td>0.0</td>\n      <td>58.0</td>\n      <td>1.0</td>\n      <td>43.0</td>\n      <td>3576.0</td>\n      <td>0.0</td>\n      <td>6715.0</td>\n      <td>49.0</td>\n      <td>10383.0</td>\n      <td>0.0</td>\n      <td>...</td>\n      <td>0</td>\n      <td>0</td>\n      <td>0</td>\n      <td>0</td>\n      <td>0</td>\n      <td>0</td>\n      <td>0</td>\n      <td>0</td>\n      <td>1</td>\n      <td>0</td>\n    </tr>\n    <tr>\n      <th>3</th>\n      <td>0.0</td>\n      <td>33.0</td>\n      <td>0.0</td>\n      <td>0.0</td>\n      <td>1283.0</td>\n      <td>371.0</td>\n      <td>3329.0</td>\n      <td>193.0</td>\n      <td>5176.0</td>\n      <td>0.0</td>\n      <td>...</td>\n      <td>0</td>\n      <td>0</td>\n      <td>0</td>\n      <td>0</td>\n      <td>0</td>\n      <td>0</td>\n      <td>0</td>\n      <td>0</td>\n      <td>1</td>\n      <td>0</td>\n    </tr>\n    <tr>\n      <th>4</th>\n      <td>0.0</td>\n      <td>16.0</td>\n      <td>0.0</td>\n      <td>303.0</td>\n      <td>70.0</td>\n      <td>151.0</td>\n      <td>565.0</td>\n      <td>2.0</td>\n      <td>1091.0</td>\n      <td>1.0</td>\n      <td>...</td>\n      <td>0</td>\n      <td>0</td>\n      <td>1</td>\n      <td>0</td>\n      <td>0</td>\n      <td>0</td>\n      <td>0</td>\n      <td>0</td>\n      <td>1</td>\n      <td>0</td>\n    </tr>\n  </tbody>\n</table>\n<p>5 rows × 32 columns</p>\n</div>"
     },
     "execution_count": 19,
     "metadata": {},
     "output_type": "execute_result"
    }
   ],
   "source": [
    "dummified_variables = pd.concat([variables, dummy_vars], axis=1).drop(var_to_dummy, axis=1)\n",
    "dummified_variables.drop(var_not_to_dummy, axis=1, inplace=True)\n",
    "dummified_variables.head()"
   ],
   "metadata": {
    "collapsed": false,
    "pycharm": {
     "name": "#%%\n"
    }
   }
  },
  {
   "cell_type": "code",
   "execution_count": 20,
   "outputs": [],
   "source": [
    "floor_ceil_dict = {\n",
    "    'Age': [0, 120],\n",
    "    'RoomService': [0, np.inf],\n",
    "    'FoodCourt': [0, np.inf],\n",
    "    'Spa': [0, np.inf],\n",
    "    'VRDeck': [0, np.inf],\n",
    "    'ShoppingMall': [0, np.inf],\n",
    "    'Cabin_num': [0, np.inf],\n",
    "    'VIP': [0, 1],\n",
    "    'CryoSleep': [0, 1]\n",
    "}"
   ],
   "metadata": {
    "collapsed": false,
    "pycharm": {
     "name": "#%%\n"
    }
   }
  },
  {
   "cell_type": "code",
   "execution_count": 21,
   "outputs": [
    {
     "name": "stderr",
     "output_type": "stream",
     "text": [
      "  0%|          | 0/9 [00:00<?, ?it/s]C:\\Users\\jfcaliz\\Anaconda3\\envs\\SpaceshipTitanic\\lib\\site-packages\\impute_missing_values.py:51: FutureWarning: Passing a set as an indexer is deprecated and will raise in a future version. Use a list instead.\n",
      "  int_df = pd.get_dummies(df_.loc[:, both_cols], drop_first=False)\n",
      "C:\\Users\\jfcaliz\\Anaconda3\\envs\\SpaceshipTitanic\\lib\\site-packages\\impute_missing_values.py:86: SettingWithCopyWarning: \n",
      "A value is trying to be set on a copy of a slice from a DataFrame\n",
      "\n",
      "See the caveats in the documentation: https://pandas.pydata.org/pandas-docs/stable/user_guide/indexing.html#returning-a-view-versus-a-copy\n",
      "  df_[col][na_index] = preds\n",
      " 11%|█         | 1/9 [00:00<00:01,  7.52it/s]C:\\Users\\jfcaliz\\Anaconda3\\envs\\SpaceshipTitanic\\lib\\site-packages\\impute_missing_values.py:51: FutureWarning: Passing a set as an indexer is deprecated and will raise in a future version. Use a list instead.\n",
      "  int_df = pd.get_dummies(df_.loc[:, both_cols], drop_first=False)\n",
      "C:\\Users\\jfcaliz\\Anaconda3\\envs\\SpaceshipTitanic\\lib\\site-packages\\impute_missing_values.py:86: SettingWithCopyWarning: \n",
      "A value is trying to be set on a copy of a slice from a DataFrame\n",
      "\n",
      "See the caveats in the documentation: https://pandas.pydata.org/pandas-docs/stable/user_guide/indexing.html#returning-a-view-versus-a-copy\n",
      "  df_[col][na_index] = preds\n",
      " 22%|██▏       | 2/9 [00:00<00:00,  8.09it/s]C:\\Users\\jfcaliz\\Anaconda3\\envs\\SpaceshipTitanic\\lib\\site-packages\\impute_missing_values.py:51: FutureWarning: Passing a set as an indexer is deprecated and will raise in a future version. Use a list instead.\n",
      "  int_df = pd.get_dummies(df_.loc[:, both_cols], drop_first=False)\n",
      "C:\\Users\\jfcaliz\\Anaconda3\\envs\\SpaceshipTitanic\\lib\\site-packages\\impute_missing_values.py:86: SettingWithCopyWarning: \n",
      "A value is trying to be set on a copy of a slice from a DataFrame\n",
      "\n",
      "See the caveats in the documentation: https://pandas.pydata.org/pandas-docs/stable/user_guide/indexing.html#returning-a-view-versus-a-copy\n",
      "  df_[col][na_index] = preds\n",
      " 33%|███▎      | 3/9 [00:00<00:00,  7.93it/s]C:\\Users\\jfcaliz\\Anaconda3\\envs\\SpaceshipTitanic\\lib\\site-packages\\impute_missing_values.py:51: FutureWarning: Passing a set as an indexer is deprecated and will raise in a future version. Use a list instead.\n",
      "  int_df = pd.get_dummies(df_.loc[:, both_cols], drop_first=False)\n",
      "C:\\Users\\jfcaliz\\Anaconda3\\envs\\SpaceshipTitanic\\lib\\site-packages\\impute_missing_values.py:86: SettingWithCopyWarning: \n",
      "A value is trying to be set on a copy of a slice from a DataFrame\n",
      "\n",
      "See the caveats in the documentation: https://pandas.pydata.org/pandas-docs/stable/user_guide/indexing.html#returning-a-view-versus-a-copy\n",
      "  df_[col][na_index] = preds\n",
      " 44%|████▍     | 4/9 [00:00<00:00,  7.36it/s]C:\\Users\\jfcaliz\\Anaconda3\\envs\\SpaceshipTitanic\\lib\\site-packages\\impute_missing_values.py:51: FutureWarning: Passing a set as an indexer is deprecated and will raise in a future version. Use a list instead.\n",
      "  int_df = pd.get_dummies(df_.loc[:, both_cols], drop_first=False)\n",
      "C:\\Users\\jfcaliz\\Anaconda3\\envs\\SpaceshipTitanic\\lib\\site-packages\\impute_missing_values.py:86: SettingWithCopyWarning: \n",
      "A value is trying to be set on a copy of a slice from a DataFrame\n",
      "\n",
      "See the caveats in the documentation: https://pandas.pydata.org/pandas-docs/stable/user_guide/indexing.html#returning-a-view-versus-a-copy\n",
      "  df_[col][na_index] = preds\n",
      " 56%|█████▌    | 5/9 [00:00<00:00,  7.32it/s]C:\\Users\\jfcaliz\\Anaconda3\\envs\\SpaceshipTitanic\\lib\\site-packages\\impute_missing_values.py:51: FutureWarning: Passing a set as an indexer is deprecated and will raise in a future version. Use a list instead.\n",
      "  int_df = pd.get_dummies(df_.loc[:, both_cols], drop_first=False)\n",
      "C:\\Users\\jfcaliz\\Anaconda3\\envs\\SpaceshipTitanic\\lib\\site-packages\\impute_missing_values.py:86: SettingWithCopyWarning: \n",
      "A value is trying to be set on a copy of a slice from a DataFrame\n",
      "\n",
      "See the caveats in the documentation: https://pandas.pydata.org/pandas-docs/stable/user_guide/indexing.html#returning-a-view-versus-a-copy\n",
      "  df_[col][na_index] = preds\n",
      " 67%|██████▋   | 6/9 [00:00<00:00,  6.95it/s]C:\\Users\\jfcaliz\\Anaconda3\\envs\\SpaceshipTitanic\\lib\\site-packages\\impute_missing_values.py:51: FutureWarning: Passing a set as an indexer is deprecated and will raise in a future version. Use a list instead.\n",
      "  int_df = pd.get_dummies(df_.loc[:, both_cols], drop_first=False)\n",
      "C:\\Users\\jfcaliz\\Anaconda3\\envs\\SpaceshipTitanic\\lib\\site-packages\\impute_missing_values.py:86: SettingWithCopyWarning: \n",
      "A value is trying to be set on a copy of a slice from a DataFrame\n",
      "\n",
      "See the caveats in the documentation: https://pandas.pydata.org/pandas-docs/stable/user_guide/indexing.html#returning-a-view-versus-a-copy\n",
      "  df_[col][na_index] = preds\n",
      " 78%|███████▊  | 7/9 [00:01<00:00,  6.30it/s]C:\\Users\\jfcaliz\\Anaconda3\\envs\\SpaceshipTitanic\\lib\\site-packages\\impute_missing_values.py:51: FutureWarning: Passing a set as an indexer is deprecated and will raise in a future version. Use a list instead.\n",
      "  int_df = pd.get_dummies(df_.loc[:, both_cols], drop_first=False)\n",
      "C:\\Users\\jfcaliz\\Anaconda3\\envs\\SpaceshipTitanic\\lib\\site-packages\\impute_missing_values.py:86: SettingWithCopyWarning: \n",
      "A value is trying to be set on a copy of a slice from a DataFrame\n",
      "\n",
      "See the caveats in the documentation: https://pandas.pydata.org/pandas-docs/stable/user_guide/indexing.html#returning-a-view-versus-a-copy\n",
      "  df_[col][na_index] = preds\n",
      " 89%|████████▉ | 8/9 [00:01<00:00,  4.86it/s]C:\\Users\\jfcaliz\\Anaconda3\\envs\\SpaceshipTitanic\\lib\\site-packages\\impute_missing_values.py:51: FutureWarning: Passing a set as an indexer is deprecated and will raise in a future version. Use a list instead.\n",
      "  int_df = pd.get_dummies(df_.loc[:, both_cols], drop_first=False)\n",
      "C:\\Users\\jfcaliz\\Anaconda3\\envs\\SpaceshipTitanic\\lib\\site-packages\\impute_missing_values.py:86: SettingWithCopyWarning: \n",
      "A value is trying to be set on a copy of a slice from a DataFrame\n",
      "\n",
      "See the caveats in the documentation: https://pandas.pydata.org/pandas-docs/stable/user_guide/indexing.html#returning-a-view-versus-a-copy\n",
      "  df_[col][na_index] = preds\n",
      "100%|██████████| 9/9 [00:01<00:00,  5.88it/s]\n"
     ]
    }
   ],
   "source": [
    "actual_impute, act_problems, act_scores, act_regressors = \\\n",
    "    impute_missing_values(dummified_variables, scores=True, col_floor_ceiling_dict=floor_ceil_dict)"
   ],
   "metadata": {
    "collapsed": false,
    "pycharm": {
     "name": "#%%\n"
    }
   }
  },
  {
   "cell_type": "code",
   "execution_count": 22,
   "outputs": [
    {
     "name": "stderr",
     "output_type": "stream",
     "text": [
      "  0%|          | 0/9 [00:00<?, ?it/s]C:\\Users\\jfcaliz\\Anaconda3\\envs\\SpaceshipTitanic\\lib\\site-packages\\impute_missing_values.py:51: FutureWarning: Passing a set as an indexer is deprecated and will raise in a future version. Use a list instead.\n",
      "  int_df = pd.get_dummies(df_.loc[:, both_cols], drop_first=False)\n",
      "C:\\Users\\jfcaliz\\Anaconda3\\envs\\SpaceshipTitanic\\lib\\site-packages\\impute_missing_values.py:86: SettingWithCopyWarning: \n",
      "A value is trying to be set on a copy of a slice from a DataFrame\n",
      "\n",
      "See the caveats in the documentation: https://pandas.pydata.org/pandas-docs/stable/user_guide/indexing.html#returning-a-view-versus-a-copy\n",
      "  df_[col][na_index] = preds\n",
      " 11%|█         | 1/9 [00:00<00:01,  4.72it/s]C:\\Users\\jfcaliz\\Anaconda3\\envs\\SpaceshipTitanic\\lib\\site-packages\\impute_missing_values.py:51: FutureWarning: Passing a set as an indexer is deprecated and will raise in a future version. Use a list instead.\n",
      "  int_df = pd.get_dummies(df_.loc[:, both_cols], drop_first=False)\n",
      "C:\\Users\\jfcaliz\\Anaconda3\\envs\\SpaceshipTitanic\\lib\\site-packages\\impute_missing_values.py:86: SettingWithCopyWarning: \n",
      "A value is trying to be set on a copy of a slice from a DataFrame\n",
      "\n",
      "See the caveats in the documentation: https://pandas.pydata.org/pandas-docs/stable/user_guide/indexing.html#returning-a-view-versus-a-copy\n",
      "  df_[col][na_index] = preds\n",
      " 22%|██▏       | 2/9 [00:00<00:01,  4.67it/s]C:\\Users\\jfcaliz\\Anaconda3\\envs\\SpaceshipTitanic\\lib\\site-packages\\impute_missing_values.py:51: FutureWarning: Passing a set as an indexer is deprecated and will raise in a future version. Use a list instead.\n",
      "  int_df = pd.get_dummies(df_.loc[:, both_cols], drop_first=False)\n",
      "C:\\Users\\jfcaliz\\Anaconda3\\envs\\SpaceshipTitanic\\lib\\site-packages\\impute_missing_values.py:86: SettingWithCopyWarning: \n",
      "A value is trying to be set on a copy of a slice from a DataFrame\n",
      "\n",
      "See the caveats in the documentation: https://pandas.pydata.org/pandas-docs/stable/user_guide/indexing.html#returning-a-view-versus-a-copy\n",
      "  df_[col][na_index] = preds\n",
      " 33%|███▎      | 3/9 [00:00<00:01,  4.51it/s]C:\\Users\\jfcaliz\\Anaconda3\\envs\\SpaceshipTitanic\\lib\\site-packages\\impute_missing_values.py:51: FutureWarning: Passing a set as an indexer is deprecated and will raise in a future version. Use a list instead.\n",
      "  int_df = pd.get_dummies(df_.loc[:, both_cols], drop_first=False)\n",
      "C:\\Users\\jfcaliz\\Anaconda3\\envs\\SpaceshipTitanic\\lib\\site-packages\\impute_missing_values.py:86: SettingWithCopyWarning: \n",
      "A value is trying to be set on a copy of a slice from a DataFrame\n",
      "\n",
      "See the caveats in the documentation: https://pandas.pydata.org/pandas-docs/stable/user_guide/indexing.html#returning-a-view-versus-a-copy\n",
      "  df_[col][na_index] = preds\n",
      " 44%|████▍     | 4/9 [00:00<00:01,  4.81it/s]C:\\Users\\jfcaliz\\Anaconda3\\envs\\SpaceshipTitanic\\lib\\site-packages\\impute_missing_values.py:51: FutureWarning: Passing a set as an indexer is deprecated and will raise in a future version. Use a list instead.\n",
      "  int_df = pd.get_dummies(df_.loc[:, both_cols], drop_first=False)\n",
      "C:\\Users\\jfcaliz\\Anaconda3\\envs\\SpaceshipTitanic\\lib\\site-packages\\impute_missing_values.py:86: SettingWithCopyWarning: \n",
      "A value is trying to be set on a copy of a slice from a DataFrame\n",
      "\n",
      "See the caveats in the documentation: https://pandas.pydata.org/pandas-docs/stable/user_guide/indexing.html#returning-a-view-versus-a-copy\n",
      "  df_[col][na_index] = preds\n",
      " 56%|█████▌    | 5/9 [00:01<00:00,  4.83it/s]C:\\Users\\jfcaliz\\Anaconda3\\envs\\SpaceshipTitanic\\lib\\site-packages\\impute_missing_values.py:51: FutureWarning: Passing a set as an indexer is deprecated and will raise in a future version. Use a list instead.\n",
      "  int_df = pd.get_dummies(df_.loc[:, both_cols], drop_first=False)\n",
      "C:\\Users\\jfcaliz\\Anaconda3\\envs\\SpaceshipTitanic\\lib\\site-packages\\impute_missing_values.py:86: SettingWithCopyWarning: \n",
      "A value is trying to be set on a copy of a slice from a DataFrame\n",
      "\n",
      "See the caveats in the documentation: https://pandas.pydata.org/pandas-docs/stable/user_guide/indexing.html#returning-a-view-versus-a-copy\n",
      "  df_[col][na_index] = preds\n",
      " 67%|██████▋   | 6/9 [00:01<00:00,  5.18it/s]C:\\Users\\jfcaliz\\Anaconda3\\envs\\SpaceshipTitanic\\lib\\site-packages\\impute_missing_values.py:51: FutureWarning: Passing a set as an indexer is deprecated and will raise in a future version. Use a list instead.\n",
      "  int_df = pd.get_dummies(df_.loc[:, both_cols], drop_first=False)\n",
      "C:\\Users\\jfcaliz\\Anaconda3\\envs\\SpaceshipTitanic\\lib\\site-packages\\impute_missing_values.py:86: SettingWithCopyWarning: \n",
      "A value is trying to be set on a copy of a slice from a DataFrame\n",
      "\n",
      "See the caveats in the documentation: https://pandas.pydata.org/pandas-docs/stable/user_guide/indexing.html#returning-a-view-versus-a-copy\n",
      "  df_[col][na_index] = preds\n",
      " 78%|███████▊  | 7/9 [00:01<00:00,  5.73it/s]C:\\Users\\jfcaliz\\Anaconda3\\envs\\SpaceshipTitanic\\lib\\site-packages\\impute_missing_values.py:51: FutureWarning: Passing a set as an indexer is deprecated and will raise in a future version. Use a list instead.\n",
      "  int_df = pd.get_dummies(df_.loc[:, both_cols], drop_first=False)\n",
      "C:\\Users\\jfcaliz\\Anaconda3\\envs\\SpaceshipTitanic\\lib\\site-packages\\impute_missing_values.py:86: SettingWithCopyWarning: \n",
      "A value is trying to be set on a copy of a slice from a DataFrame\n",
      "\n",
      "See the caveats in the documentation: https://pandas.pydata.org/pandas-docs/stable/user_guide/indexing.html#returning-a-view-versus-a-copy\n",
      "  df_[col][na_index] = preds\n",
      " 89%|████████▉ | 8/9 [00:01<00:00,  5.74it/s]C:\\Users\\jfcaliz\\Anaconda3\\envs\\SpaceshipTitanic\\lib\\site-packages\\impute_missing_values.py:51: FutureWarning: Passing a set as an indexer is deprecated and will raise in a future version. Use a list instead.\n",
      "  int_df = pd.get_dummies(df_.loc[:, both_cols], drop_first=False)\n",
      "C:\\Users\\jfcaliz\\Anaconda3\\envs\\SpaceshipTitanic\\lib\\site-packages\\impute_missing_values.py:86: SettingWithCopyWarning: \n",
      "A value is trying to be set on a copy of a slice from a DataFrame\n",
      "\n",
      "See the caveats in the documentation: https://pandas.pydata.org/pandas-docs/stable/user_guide/indexing.html#returning-a-view-versus-a-copy\n",
      "  df_[col][na_index] = preds\n",
      "100%|██████████| 9/9 [00:01<00:00,  5.35it/s]\n"
     ]
    }
   ],
   "source": [
    "gaussian_impute, gaussian_problems, gaussian_scores, gaussian_regressors =\\\n",
    "    impute_missing_values(dummified_variables, actual_or_gaussian_residuals='gaussian',\n",
    "                          scores=True, col_floor_ceiling_dict=floor_ceil_dict)"
   ],
   "metadata": {
    "collapsed": false,
    "pycharm": {
     "name": "#%%\n"
    }
   }
  },
  {
   "cell_type": "code",
   "execution_count": 23,
   "outputs": [
    {
     "data": {
      "text/plain": "               Age  RoomService  FoodCourt       Spa    VRDeck  Cabin_num  \\\nActual    0.428241     0.503713   0.693360  0.648467  0.706570   0.999891   \nGaussian  0.385506     0.512025   0.736377  0.583445  0.862763   0.998505   \n\n               VIP  ShoppingMall  CryoSleep  \nActual    0.295034      0.695351   0.900453  \nGaussian  0.341345      0.475830   0.896861  ",
      "text/html": "<div>\n<style scoped>\n    .dataframe tbody tr th:only-of-type {\n        vertical-align: middle;\n    }\n\n    .dataframe tbody tr th {\n        vertical-align: top;\n    }\n\n    .dataframe thead th {\n        text-align: right;\n    }\n</style>\n<table border=\"1\" class=\"dataframe\">\n  <thead>\n    <tr style=\"text-align: right;\">\n      <th></th>\n      <th>Age</th>\n      <th>RoomService</th>\n      <th>FoodCourt</th>\n      <th>Spa</th>\n      <th>VRDeck</th>\n      <th>Cabin_num</th>\n      <th>VIP</th>\n      <th>ShoppingMall</th>\n      <th>CryoSleep</th>\n    </tr>\n  </thead>\n  <tbody>\n    <tr>\n      <th>Actual</th>\n      <td>0.428241</td>\n      <td>0.503713</td>\n      <td>0.693360</td>\n      <td>0.648467</td>\n      <td>0.706570</td>\n      <td>0.999891</td>\n      <td>0.295034</td>\n      <td>0.695351</td>\n      <td>0.900453</td>\n    </tr>\n    <tr>\n      <th>Gaussian</th>\n      <td>0.385506</td>\n      <td>0.512025</td>\n      <td>0.736377</td>\n      <td>0.583445</td>\n      <td>0.862763</td>\n      <td>0.998505</td>\n      <td>0.341345</td>\n      <td>0.475830</td>\n      <td>0.896861</td>\n    </tr>\n  </tbody>\n</table>\n</div>"
     },
     "execution_count": 23,
     "metadata": {},
     "output_type": "execute_result"
    }
   ],
   "source": [
    "impute_scores = pd.DataFrame([act_scores, gaussian_scores], index=['Actual', 'Gaussian'])\n",
    "impute_scores"
   ],
   "metadata": {
    "collapsed": false,
    "pycharm": {
     "name": "#%%\n"
    }
   }
  },
  {
   "cell_type": "code",
   "execution_count": 24,
   "outputs": [
    {
     "data": {
      "text/plain": "   CryoSleep   Age  VIP  RoomService  FoodCourt  ShoppingMall     Spa  VRDeck  \\\n0        0.0  39.0  0.0          0.0        0.0           0.0     0.0     0.0   \n1        0.0  24.0  0.0        109.0        9.0          25.0   549.0    44.0   \n2        0.0  58.0  1.0         43.0     3576.0           0.0  6715.0    49.0   \n3        0.0  33.0  0.0          0.0     1283.0         371.0  3329.0   193.0   \n4        0.0  16.0  0.0        303.0       70.0         151.0   565.0     2.0   \n\n   TotalSpent  Cabin_num  ...  Cabin_deck_D  Cabin_deck_E  Cabin_deck_F  \\\n0         0.0        0.0  ...             0             0             0   \n1       736.0        0.0  ...             0             0             1   \n2     10383.0        0.0  ...             0             0             0   \n3      5176.0        0.0  ...             0             0             0   \n4      1091.0        1.0  ...             0             0             1   \n\n   Cabin_deck_G  Cabin_deck_T  Cabin_deck_blank  Destination_55 Cancri e  \\\n0             0             0                 0                        0   \n1             0             0                 0                        0   \n2             0             0                 0                        0   \n3             0             0                 0                        0   \n4             0             0                 0                        0   \n\n   Destination_PSO J318.5-22  Destination_TRAPPIST-1e  Destination_blank  \n0                          0                        1                  0  \n1                          0                        1                  0  \n2                          0                        1                  0  \n3                          0                        1                  0  \n4                          0                        1                  0  \n\n[5 rows x 32 columns]",
      "text/html": "<div>\n<style scoped>\n    .dataframe tbody tr th:only-of-type {\n        vertical-align: middle;\n    }\n\n    .dataframe tbody tr th {\n        vertical-align: top;\n    }\n\n    .dataframe thead th {\n        text-align: right;\n    }\n</style>\n<table border=\"1\" class=\"dataframe\">\n  <thead>\n    <tr style=\"text-align: right;\">\n      <th></th>\n      <th>CryoSleep</th>\n      <th>Age</th>\n      <th>VIP</th>\n      <th>RoomService</th>\n      <th>FoodCourt</th>\n      <th>ShoppingMall</th>\n      <th>Spa</th>\n      <th>VRDeck</th>\n      <th>TotalSpent</th>\n      <th>Cabin_num</th>\n      <th>...</th>\n      <th>Cabin_deck_D</th>\n      <th>Cabin_deck_E</th>\n      <th>Cabin_deck_F</th>\n      <th>Cabin_deck_G</th>\n      <th>Cabin_deck_T</th>\n      <th>Cabin_deck_blank</th>\n      <th>Destination_55 Cancri e</th>\n      <th>Destination_PSO J318.5-22</th>\n      <th>Destination_TRAPPIST-1e</th>\n      <th>Destination_blank</th>\n    </tr>\n  </thead>\n  <tbody>\n    <tr>\n      <th>0</th>\n      <td>0.0</td>\n      <td>39.0</td>\n      <td>0.0</td>\n      <td>0.0</td>\n      <td>0.0</td>\n      <td>0.0</td>\n      <td>0.0</td>\n      <td>0.0</td>\n      <td>0.0</td>\n      <td>0.0</td>\n      <td>...</td>\n      <td>0</td>\n      <td>0</td>\n      <td>0</td>\n      <td>0</td>\n      <td>0</td>\n      <td>0</td>\n      <td>0</td>\n      <td>0</td>\n      <td>1</td>\n      <td>0</td>\n    </tr>\n    <tr>\n      <th>1</th>\n      <td>0.0</td>\n      <td>24.0</td>\n      <td>0.0</td>\n      <td>109.0</td>\n      <td>9.0</td>\n      <td>25.0</td>\n      <td>549.0</td>\n      <td>44.0</td>\n      <td>736.0</td>\n      <td>0.0</td>\n      <td>...</td>\n      <td>0</td>\n      <td>0</td>\n      <td>1</td>\n      <td>0</td>\n      <td>0</td>\n      <td>0</td>\n      <td>0</td>\n      <td>0</td>\n      <td>1</td>\n      <td>0</td>\n    </tr>\n    <tr>\n      <th>2</th>\n      <td>0.0</td>\n      <td>58.0</td>\n      <td>1.0</td>\n      <td>43.0</td>\n      <td>3576.0</td>\n      <td>0.0</td>\n      <td>6715.0</td>\n      <td>49.0</td>\n      <td>10383.0</td>\n      <td>0.0</td>\n      <td>...</td>\n      <td>0</td>\n      <td>0</td>\n      <td>0</td>\n      <td>0</td>\n      <td>0</td>\n      <td>0</td>\n      <td>0</td>\n      <td>0</td>\n      <td>1</td>\n      <td>0</td>\n    </tr>\n    <tr>\n      <th>3</th>\n      <td>0.0</td>\n      <td>33.0</td>\n      <td>0.0</td>\n      <td>0.0</td>\n      <td>1283.0</td>\n      <td>371.0</td>\n      <td>3329.0</td>\n      <td>193.0</td>\n      <td>5176.0</td>\n      <td>0.0</td>\n      <td>...</td>\n      <td>0</td>\n      <td>0</td>\n      <td>0</td>\n      <td>0</td>\n      <td>0</td>\n      <td>0</td>\n      <td>0</td>\n      <td>0</td>\n      <td>1</td>\n      <td>0</td>\n    </tr>\n    <tr>\n      <th>4</th>\n      <td>0.0</td>\n      <td>16.0</td>\n      <td>0.0</td>\n      <td>303.0</td>\n      <td>70.0</td>\n      <td>151.0</td>\n      <td>565.0</td>\n      <td>2.0</td>\n      <td>1091.0</td>\n      <td>1.0</td>\n      <td>...</td>\n      <td>0</td>\n      <td>0</td>\n      <td>1</td>\n      <td>0</td>\n      <td>0</td>\n      <td>0</td>\n      <td>0</td>\n      <td>0</td>\n      <td>1</td>\n      <td>0</td>\n    </tr>\n  </tbody>\n</table>\n<p>5 rows × 32 columns</p>\n</div>"
     },
     "execution_count": 24,
     "metadata": {},
     "output_type": "execute_result"
    }
   ],
   "source": [
    "impute_dict = {'Actual': [actual_impute, act_regressors],\n",
    "               'Gaussian': [gaussian_impute, gaussian_regressors]}\n",
    "\n",
    "imputed_variables = dummified_variables.copy()\n",
    "impute_regressors = []\n",
    "\n",
    "for col, i in zip(impute_scores.columns, range(len(impute_scores.columns))):\n",
    "    kind = impute_scores[impute_scores[col] == impute_scores[col].max()][col].index.values[0]\n",
    "    imputed_variables[col] = impute_dict[kind][0][col]\n",
    "    regressor = impute_dict[kind][1][i]\n",
    "    impute_regressors.append(regressor)\n",
    "\n",
    "imputed_variables.head()"
   ],
   "metadata": {
    "collapsed": false,
    "pycharm": {
     "name": "#%%\n"
    }
   }
  },
  {
   "cell_type": "code",
   "execution_count": 25,
   "outputs": [],
   "source": [
    "for col in impute_scores.columns:\n",
    "    imputed_variables[col] = imputed_variables[col].astype(int)"
   ],
   "metadata": {
    "collapsed": false,
    "pycharm": {
     "name": "#%%\n"
    }
   }
  },
  {
   "cell_type": "code",
   "execution_count": 26,
   "outputs": [
    {
     "data": {
      "text/plain": "<AxesSubplot:>"
     },
     "execution_count": 26,
     "metadata": {},
     "output_type": "execute_result"
    },
    {
     "data": {
      "text/plain": "<Figure size 1080x504 with 1 Axes>",
      "image/png": "[encoded data removed]"
     },
     "metadata": {
      "needs_background": "light"
     },
     "output_type": "display_data"
    }
   ],
   "source": [
    "imputed_variables.corrwith(target).plot(kind='bar', figsize=(15, 7))"
   ],
   "metadata": {
    "collapsed": false,
    "pycharm": {
     "name": "#%%\n"
    }
   }
  },
  {
   "cell_type": "code",
   "execution_count": 27,
   "outputs": [],
   "source": [
    "pickles = 'pickle'\n",
    "if not os.path.exists(pickles):\n",
    "    os.mkdir(pickles)"
   ],
   "metadata": {
    "collapsed": false,
    "pycharm": {
     "name": "#%%\n"
    }
   }
  },
  {
   "cell_type": "code",
   "execution_count": 28,
   "outputs": [],
   "source": [
    "with open(f'{pickles}/regressors.pkl', 'wb') as pkl_file:\n",
    "    dump(impute_regressors, pkl_file)"
   ],
   "metadata": {
    "collapsed": false,
    "pycharm": {
     "name": "#%%\n"
    }
   }
  },
  {
   "cell_type": "code",
   "execution_count": 29,
   "outputs": [],
   "source": [
    "imputed_variables.to_csv('data/imputed_variables.csv')"
   ],
   "metadata": {
    "collapsed": false,
    "pycharm": {
     "name": "#%%\n"
    }
   }
  }
 ],
 "metadata": {
  "kernelspec": {
   "display_name": "Python 3",
   "language": "python",
   "name": "python3"
  },
  "language_info": {
   "codemirror_mode": {
    "name": "ipython",
    "version": 2
   },
   "file_extension": ".py",
   "mimetype": "text/x-python",
   "name": "python",
   "nbconvert_exporter": "python",
   "pygments_lexer": "ipython2",
   "version": "2.7.6"
  }
 },
 "nbformat": 4,
 "nbformat_minor": 0
}